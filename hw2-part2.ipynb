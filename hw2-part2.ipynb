{
 "cells": [
  {
   "cell_type": "markdown",
   "metadata": {},
   "source": [
    "## ДЗ2 часть 2\n",
    "### Такташева Катя, БКЛ182"
   ]
  },
  {
   "cell_type": "markdown",
   "metadata": {},
   "source": [
    "Для работы я выбрала данные pymorphy, но для начала решила немного по-другому сохранить их для удобства, поэтому заново создаем список словарей lemmas_pm.\n",
    "\n",
    "Импортируем нужные модули:"
   ]
  },
  {
   "cell_type": "code",
   "execution_count": 3,
   "metadata": {},
   "outputs": [],
   "source": [
    "import nltk\n",
    "from nltk.tokenize import word_tokenize\n",
    "from pymorphy2 import MorphAnalyzer\n",
    "morph = MorphAnalyzer()"
   ]
  },
  {
   "cell_type": "markdown",
   "metadata": {},
   "source": [
    "Считываем книгу:"
   ]
  },
  {
   "cell_type": "code",
   "execution_count": 4,
   "metadata": {},
   "outputs": [],
   "source": [
    "with open('book.txt', 'r', encoding='utf-8') as fid:\n",
    "    text = fid.read()"
   ]
  },
  {
   "cell_type": "markdown",
   "metadata": {},
   "source": [
    "Парсим слова:"
   ]
  },
  {
   "cell_type": "code",
   "execution_count": 5,
   "metadata": {},
   "outputs": [],
   "source": [
    "tokens = word_tokenize(text)\n",
    "lemmas = []\n",
    "for token in tokens:\n",
    "    lemma = morph.parse(token)\n",
    "    lemmas.append(lemma)"
   ]
  },
  {
   "cell_type": "markdown",
   "metadata": {},
   "source": [
    "Создаем список словарей нудного вида:"
   ]
  },
  {
   "cell_type": "code",
   "execution_count": 6,
   "metadata": {},
   "outputs": [
    {
     "name": "stderr",
     "output_type": "stream",
     "text": [
      "19:22: E124 closing bracket does not match visual indentation\n",
      "20:21: E124 closing bracket does not match visual indentation\n",
      "19:22: E124 closing bracket does not match visual indentation\n",
      "20:21: E124 closing bracket does not match visual indentation\n"
     ]
    }
   ],
   "source": [
    "lemmas_pm = []\n",
    "for i in range(len(lemmas)):\n",
    "    dic = dict()\n",
    "    wordform = lemmas[i][0]  # сохраняем только первый вариант разбора\n",
    "    lemmas_pm.append({'wordform': wordform.word,\n",
    "                      'normal_form': wordform.normal_form,\n",
    "                      'pos': wordform.tag.POS,\n",
    "                      'case': wordform.tag.case,\n",
    "                      'number': wordform.tag.number,\n",
    "                      'gender': wordform.tag.gender,\n",
    "                      'animacy': wordform.tag.animacy,\n",
    "                      'aspect': wordform.tag.aspect,\n",
    "                      'involvement': wordform.tag.involvement,\n",
    "                      'mood': wordform.tag.mood,\n",
    "                      'person': wordform.tag.person,\n",
    "                      'tense': wordform.tag.tense,\n",
    "                      'transitivity': wordform.tag.transitivity,\n",
    "                      'voice ': wordform.tag.voice\n",
    "                     }\n",
    "                    )"
   ]
  },
  {
   "cell_type": "markdown",
   "metadata": {},
   "source": [
    "### Задание 1: Датафрейм\n",
    "Импортируем модуль pandas:"
   ]
  },
  {
   "cell_type": "code",
   "execution_count": 7,
   "metadata": {},
   "outputs": [],
   "source": [
    "import pandas as pd"
   ]
  },
  {
   "cell_type": "markdown",
   "metadata": {},
   "source": [
    "Преобразуем данные в датафрейм и напечатаем:"
   ]
  },
  {
   "cell_type": "code",
   "execution_count": 8,
   "metadata": {},
   "outputs": [
    {
     "data": {
      "text/html": [
       "<div>\n",
       "<style scoped>\n",
       "    .dataframe tbody tr th:only-of-type {\n",
       "        vertical-align: middle;\n",
       "    }\n",
       "\n",
       "    .dataframe tbody tr th {\n",
       "        vertical-align: top;\n",
       "    }\n",
       "\n",
       "    .dataframe thead th {\n",
       "        text-align: right;\n",
       "    }\n",
       "</style>\n",
       "<table border=\"1\" class=\"dataframe\">\n",
       "  <thead>\n",
       "    <tr style=\"text-align: right;\">\n",
       "      <th></th>\n",
       "      <th>wordform</th>\n",
       "      <th>normal_form</th>\n",
       "      <th>pos</th>\n",
       "      <th>case</th>\n",
       "      <th>number</th>\n",
       "      <th>gender</th>\n",
       "      <th>animacy</th>\n",
       "      <th>aspect</th>\n",
       "      <th>involvement</th>\n",
       "      <th>mood</th>\n",
       "      <th>person</th>\n",
       "      <th>tense</th>\n",
       "      <th>transitivity</th>\n",
       "      <th>voice</th>\n",
       "    </tr>\n",
       "  </thead>\n",
       "  <tbody>\n",
       "    <tr>\n",
       "      <td>0</td>\n",
       "      <td>глава</td>\n",
       "      <td>глава</td>\n",
       "      <td>NOUN</td>\n",
       "      <td>nomn</td>\n",
       "      <td>sing</td>\n",
       "      <td>masc</td>\n",
       "      <td>anim</td>\n",
       "      <td></td>\n",
       "      <td></td>\n",
       "      <td></td>\n",
       "      <td></td>\n",
       "      <td></td>\n",
       "      <td></td>\n",
       "      <td></td>\n",
       "    </tr>\n",
       "    <tr>\n",
       "      <td>1</td>\n",
       "      <td>первая</td>\n",
       "      <td>один</td>\n",
       "      <td>ADJF</td>\n",
       "      <td>nomn</td>\n",
       "      <td>sing</td>\n",
       "      <td>femn</td>\n",
       "      <td></td>\n",
       "      <td></td>\n",
       "      <td></td>\n",
       "      <td></td>\n",
       "      <td></td>\n",
       "      <td></td>\n",
       "      <td></td>\n",
       "      <td></td>\n",
       "    </tr>\n",
       "    <tr>\n",
       "      <td>2</td>\n",
       "      <td>хоть</td>\n",
       "      <td>хоть</td>\n",
       "      <td>CONJ</td>\n",
       "      <td></td>\n",
       "      <td></td>\n",
       "      <td></td>\n",
       "      <td></td>\n",
       "      <td></td>\n",
       "      <td></td>\n",
       "      <td></td>\n",
       "      <td></td>\n",
       "      <td></td>\n",
       "      <td></td>\n",
       "      <td></td>\n",
       "    </tr>\n",
       "    <tr>\n",
       "      <td>3</td>\n",
       "      <td>и</td>\n",
       "      <td>и</td>\n",
       "      <td>CONJ</td>\n",
       "      <td></td>\n",
       "      <td></td>\n",
       "      <td></td>\n",
       "      <td></td>\n",
       "      <td></td>\n",
       "      <td></td>\n",
       "      <td></td>\n",
       "      <td></td>\n",
       "      <td></td>\n",
       "      <td></td>\n",
       "      <td></td>\n",
       "    </tr>\n",
       "    <tr>\n",
       "      <td>4</td>\n",
       "      <td>не</td>\n",
       "      <td>не</td>\n",
       "      <td>PRCL</td>\n",
       "      <td></td>\n",
       "      <td></td>\n",
       "      <td></td>\n",
       "      <td></td>\n",
       "      <td></td>\n",
       "      <td></td>\n",
       "      <td></td>\n",
       "      <td></td>\n",
       "      <td></td>\n",
       "      <td></td>\n",
       "      <td></td>\n",
       "    </tr>\n",
       "    <tr>\n",
       "      <td>...</td>\n",
       "      <td>...</td>\n",
       "      <td>...</td>\n",
       "      <td>...</td>\n",
       "      <td>...</td>\n",
       "      <td>...</td>\n",
       "      <td>...</td>\n",
       "      <td>...</td>\n",
       "      <td>...</td>\n",
       "      <td>...</td>\n",
       "      <td>...</td>\n",
       "      <td>...</td>\n",
       "      <td>...</td>\n",
       "      <td>...</td>\n",
       "      <td>...</td>\n",
       "    </tr>\n",
       "    <tr>\n",
       "      <td>116333</td>\n",
       "      <td>скверную</td>\n",
       "      <td>скверный</td>\n",
       "      <td>ADJF</td>\n",
       "      <td>accs</td>\n",
       "      <td>sing</td>\n",
       "      <td>femn</td>\n",
       "      <td></td>\n",
       "      <td></td>\n",
       "      <td></td>\n",
       "      <td></td>\n",
       "      <td></td>\n",
       "      <td></td>\n",
       "      <td></td>\n",
       "      <td></td>\n",
       "    </tr>\n",
       "    <tr>\n",
       "      <td>116334</td>\n",
       "      <td>книгу</td>\n",
       "      <td>книга</td>\n",
       "      <td>NOUN</td>\n",
       "      <td>accs</td>\n",
       "      <td>sing</td>\n",
       "      <td>femn</td>\n",
       "      <td>inan</td>\n",
       "      <td></td>\n",
       "      <td></td>\n",
       "      <td></td>\n",
       "      <td></td>\n",
       "      <td></td>\n",
       "      <td></td>\n",
       "      <td></td>\n",
       "    </tr>\n",
       "    <tr>\n",
       "      <td>116335</td>\n",
       "      <td>и</td>\n",
       "      <td>и</td>\n",
       "      <td>CONJ</td>\n",
       "      <td></td>\n",
       "      <td></td>\n",
       "      <td></td>\n",
       "      <td></td>\n",
       "      <td></td>\n",
       "      <td></td>\n",
       "      <td></td>\n",
       "      <td></td>\n",
       "      <td></td>\n",
       "      <td></td>\n",
       "      <td></td>\n",
       "    </tr>\n",
       "    <tr>\n",
       "      <td>116336</td>\n",
       "      <td>копай</td>\n",
       "      <td>копать</td>\n",
       "      <td>VERB</td>\n",
       "      <td></td>\n",
       "      <td>sing</td>\n",
       "      <td></td>\n",
       "      <td></td>\n",
       "      <td>impf</td>\n",
       "      <td>excl</td>\n",
       "      <td>impr</td>\n",
       "      <td></td>\n",
       "      <td></td>\n",
       "      <td>tran</td>\n",
       "      <td></td>\n",
       "    </tr>\n",
       "    <tr>\n",
       "      <td>116337</td>\n",
       "      <td>...</td>\n",
       "      <td>...</td>\n",
       "      <td></td>\n",
       "      <td></td>\n",
       "      <td></td>\n",
       "      <td></td>\n",
       "      <td></td>\n",
       "      <td></td>\n",
       "      <td></td>\n",
       "      <td></td>\n",
       "      <td></td>\n",
       "      <td></td>\n",
       "      <td></td>\n",
       "      <td></td>\n",
       "    </tr>\n",
       "  </tbody>\n",
       "</table>\n",
       "<p>116338 rows × 14 columns</p>\n",
       "</div>"
      ],
      "text/plain": [
       "        wordform normal_form   pos  case number gender animacy aspect  \\\n",
       "0          глава       глава  NOUN  nomn   sing   masc    anim          \n",
       "1         первая        один  ADJF  nomn   sing   femn                  \n",
       "2           хоть        хоть  CONJ                                      \n",
       "3              и           и  CONJ                                      \n",
       "4             не          не  PRCL                                      \n",
       "...          ...         ...   ...   ...    ...    ...     ...    ...   \n",
       "116333  скверную    скверный  ADJF  accs   sing   femn                  \n",
       "116334     книгу       книга  NOUN  accs   sing   femn    inan          \n",
       "116335         и           и  CONJ                                      \n",
       "116336     копай      копать  VERB         sing                  impf   \n",
       "116337       ...         ...                                            \n",
       "\n",
       "       involvement  mood person tense transitivity voice   \n",
       "0                                                          \n",
       "1                                                          \n",
       "2                                                          \n",
       "3                                                          \n",
       "4                                                          \n",
       "...            ...   ...    ...   ...          ...    ...  \n",
       "116333                                                     \n",
       "116334                                                     \n",
       "116335                                                     \n",
       "116336        excl  impr                      tran         \n",
       "116337                                                     \n",
       "\n",
       "[116338 rows x 14 columns]"
      ]
     },
     "execution_count": 8,
     "metadata": {},
     "output_type": "execute_result"
    }
   ],
   "source": [
    "df = pd.DataFrame(lemmas_pm).fillna('')\n",
    "df"
   ]
  },
  {
   "cell_type": "markdown",
   "metadata": {},
   "source": [
    "### Задание 2: Графики\n",
    "Импортируем нужные модули:"
   ]
  },
  {
   "cell_type": "code",
   "execution_count": 31,
   "metadata": {},
   "outputs": [
    {
     "name": "stderr",
     "output_type": "stream",
     "text": [
      "1: E999 SyntaxError: invalid syntax\n",
      "1: E999 SyntaxError: invalid syntax\n"
     ]
    }
   ],
   "source": [
    "import matplotlib.pyplot as plt\n",
    "import seaborn as sns\n",
    "import random\n",
    "from collections import Counter\n",
    "%matplotlib inline"
   ]
  },
  {
   "cell_type": "markdown",
   "metadata": {},
   "source": [
    "#### Гистограмма\n",
    "Посмотрим среднюю длину леммы в тексте.\n",
    "\n",
    "Создадим новый датасет:"
   ]
  },
  {
   "cell_type": "code",
   "execution_count": 30,
   "metadata": {},
   "outputs": [],
   "source": [
    "df2 = df[\n",
    "    ['normal_form', 'pos', 'gender']\n",
    "        ].groupby(['normal_form', 'pos'],\n",
    "                  as_index=False).count()\n",
    "df2.columns = ['normal_form', 'pos', 'total']\n",
    "df2 = df2[df2['total'] > 10]"
   ]
  },
  {
   "cell_type": "markdown",
   "metadata": {},
   "source": [
    "Построим график:"
   ]
  },
  {
   "cell_type": "code",
   "execution_count": 11,
   "metadata": {},
   "outputs": [
    {
     "data": {
      "image/png": "[encoded data removed]",
      "text/plain": [
       "<Figure size 720x432 with 1 Axes>"
      ]
     },
     "metadata": {},
     "output_type": "display_data"
    },
    {
     "name": "stderr",
     "output_type": "stream",
     "text": [
      "6:29: E703 statement ends with a semicolon\n",
      "6:29: E703 statement ends with a semicolon\n"
     ]
    }
   ],
   "source": [
    "df2['length'] = df['normal_form'].apply(len)\n",
    "plt.figure(figsize=(10, 6))\n",
    "sns.distplot(df2['length'], bins=17, color='green')\n",
    "plt.title('Distribution of lemma length')\n",
    "plt.ylabel('%')\n",
    "plt.xlabel('Length of word');"
   ]
  },
  {
   "cell_type": "markdown",
   "metadata": {},
   "source": [
    "#### Bar-chart\n",
    "Посмотрим на самые частотные союзы. \n",
    "\n",
    "Создадим список союзов:"
   ]
  },
  {
   "cell_type": "code",
   "execution_count": 32,
   "metadata": {},
   "outputs": [],
   "source": [
    "conj_list = []\n",
    "for word in lemmas_pm:\n",
    "    if word['pos'] == 'CONJ':\n",
    "        conj_list.append(word['normal_form'])"
   ]
  },
  {
   "cell_type": "markdown",
   "metadata": {},
   "source": [
    "Найдем 10 самых частотных из них и разделим на два списка: слова и кол-во их употреблений:"
   ]
  },
  {
   "cell_type": "code",
   "execution_count": 13,
   "metadata": {},
   "outputs": [],
   "source": [
    "counter = Counter(conj_list).most_common(10)\n",
    "words_c = []\n",
    "counts_c = []\n",
    "for word in counter:\n",
    "    words_c.append(word[0])\n",
    "    counts_c.append(word[1])"
   ]
  },
  {
   "cell_type": "markdown",
   "metadata": {},
   "source": [
    "Построим график:"
   ]
  },
  {
   "cell_type": "code",
   "execution_count": 14,
   "metadata": {},
   "outputs": [
    {
     "data": {
      "image/png": "[encoded data removed]",
      "text/plain": [
       "<Figure size 432x288 with 1 Axes>"
      ]
     },
     "metadata": {},
     "output_type": "display_data"
    },
    {
     "name": "stderr",
     "output_type": "stream",
     "text": [
      "1:51: E703 statement ends with a semicolon\n",
      "2:49: E703 statement ends with a semicolon\n",
      "5:34: E703 statement ends with a semicolon\n",
      "1:51: E703 statement ends with a semicolon\n",
      "2:49: E703 statement ends with a semicolon\n",
      "5:34: E703 statement ends with a semicolon\n"
     ]
    }
   ],
   "source": [
    "plt.bar(words_c[0:5], counts_c[0:5], color='teal');\n",
    "plt.bar(words_c[5:], counts_c[5:], color='pink');\n",
    "plt.title('Самые частотные союзы:')\n",
    "plt.xlabel('Союз')\n",
    "plt.ylabel('Кол-во употреблений');"
   ]
  },
  {
   "cell_type": "markdown",
   "metadata": {},
   "source": [
    "#### Pie-chart\n",
    "Посмотрим на потребление некоторых самых частотных глаголов детектива.\n",
    "\n",
    "Создадим список глаголов:"
   ]
  },
  {
   "cell_type": "code",
   "execution_count": 33,
   "metadata": {},
   "outputs": [],
   "source": [
    "verb_list = []\n",
    "for word in lemmas_pm:\n",
    "    if word['pos'] == 'VERB':\n",
    "        verb_list.append(word['normal_form'])"
   ]
  },
  {
   "cell_type": "markdown",
   "metadata": {},
   "source": [
    "Найдем 10 самых частотных из них и разделим на два списка: слова и кол-во их употреблений:"
   ]
  },
  {
   "cell_type": "code",
   "execution_count": 16,
   "metadata": {},
   "outputs": [],
   "source": [
    "counter = Counter(verb_list).most_common(10)\n",
    "words_v = []\n",
    "counts_v = []\n",
    "for word in counter:\n",
    "    words_v.append(word[0])\n",
    "    counts_v.append(word[1])"
   ]
  },
  {
   "cell_type": "markdown",
   "metadata": {},
   "source": [
    "Построим график:"
   ]
  },
  {
   "cell_type": "code",
   "execution_count": 17,
   "metadata": {
    "scrolled": false
   },
   "outputs": [
    {
     "data": {
      "image/png": "[encoded data removed]",
      "text/plain": [
       "<Figure size 432x288 with 1 Axes>"
      ]
     },
     "metadata": {},
     "output_type": "display_data"
    },
    {
     "name": "stderr",
     "output_type": "stream",
     "text": [
      "1:68: E703 statement ends with a semicolon\n",
      "2:59: E703 statement ends with a semicolon\n",
      "1:68: E703 statement ends with a semicolon\n",
      "2:59: E703 statement ends with a semicolon\n"
     ]
    }
   ],
   "source": [
    "plt.pie(counts_v, labels=words_v, startangle=30, autopct='%1.1f%%');\n",
    "plt.title('Доля употребления 10 самых чатотных глаголов:');"
   ]
  },
  {
   "cell_type": "markdown",
   "metadata": {},
   "source": [
    "### Задание 3: свои графики"
   ]
  },
  {
   "cell_type": "markdown",
   "metadata": {},
   "source": [
    "#### Простой график: от любви до ненависти\n",
    "Посмотрим на частоту употребления слов \"любовь\" и \"ненависть\" на каждые 10000 слов книги:"
   ]
  },
  {
   "cell_type": "code",
   "execution_count": 35,
   "metadata": {},
   "outputs": [],
   "source": [
    "x1 = []\n",
    "y1 = []\n",
    "y2 = []\n",
    "j = 0\n",
    "for i in range(1, (len(lemmas_pm)//10000)+2):\n",
    "    counter1 = 0\n",
    "    counter2 = 0\n",
    "    for word in lemmas_pm[j:(i*10000)+1]:\n",
    "        if word['normal_form'] == 'любовь':\n",
    "            counter1 += 1\n",
    "        if word['normal_form'] == 'ненависть':\n",
    "            counter2 += 1\n",
    "    j += 10000\n",
    "    x1.append(i*10000)\n",
    "    y1.append(counter1/(i*10000))\n",
    "    y2.append(counter2/(i*10000))"
   ]
  },
  {
   "cell_type": "markdown",
   "metadata": {},
   "source": [
    "Построим график:"
   ]
  },
  {
   "cell_type": "code",
   "execution_count": 19,
   "metadata": {},
   "outputs": [
    {
     "data": {
      "image/png": "[encoded data removed]",
      "text/plain": [
       "<Figure size 432x288 with 1 Axes>"
      ]
     },
     "metadata": {},
     "output_type": "display_data"
    },
    {
     "name": "stderr",
     "output_type": "stream",
     "text": [
      "1:30: E703 statement ends with a semicolon\n",
      "2:31: E703 statement ends with a semicolon\n",
      "5:35: E703 statement ends with a semicolon\n",
      "1:30: E703 statement ends with a semicolon\n",
      "2:31: E703 statement ends with a semicolon\n",
      "5:35: E703 statement ends with a semicolon\n"
     ]
    }
   ],
   "source": [
    "plt.plot(x1, y1, color='red');\n",
    "plt.plot(x1, y2, color='blue');\n",
    "plt.title('Частота употребления слов \"любовь\" и \"ненависть\":')\n",
    "plt.xlabel('Место в книге')\n",
    "plt.ylabel('Частота употребления');"
   ]
  },
  {
   "cell_type": "markdown",
   "metadata": {},
   "source": [
    "#### Wordcloud cloud\n",
    "Посмотрим на облако существительных в тексте.\n",
    "\n",
    "Импортируем все необходимые модули:"
   ]
  },
  {
   "cell_type": "code",
   "execution_count": 20,
   "metadata": {},
   "outputs": [],
   "source": [
    "from wordcloud import WordCloud\n",
    "from PIL import Image\n",
    "import numpy as np"
   ]
  },
  {
   "cell_type": "markdown",
   "metadata": {},
   "source": [
    "Создадим маску, загрузив нужное изображение:"
   ]
  },
  {
   "cell_type": "code",
   "execution_count": 21,
   "metadata": {},
   "outputs": [],
   "source": [
    "mask = np.array(Image.open('mask-cloud.png'))"
   ]
  },
  {
   "cell_type": "markdown",
   "metadata": {},
   "source": [
    "Отсортируем слова:"
   ]
  },
  {
   "cell_type": "code",
   "execution_count": 36,
   "metadata": {},
   "outputs": [],
   "source": [
    "text = ' '.join(word['normal_form'] for word in lemmas_pm\n",
    "                if word['pos'] == 'NOUN')"
   ]
  },
  {
   "cell_type": "markdown",
   "metadata": {},
   "source": [
    "Нарисуем облако:"
   ]
  },
  {
   "cell_type": "code",
   "execution_count": null,
   "metadata": {},
   "outputs": [],
   "source": [
    "wordcloud = WordCloud(background_color='white',\n",
    "                      width=1300,\n",
    "                      height=800,\n",
    "                      mask=mask\n",
    "                     ).generate(text);\n",
    "plt.figure(figsize=(13, 8), facecolor=None)\n",
    "plt.imshow(wordcloud, interpolation='bilinear')\n",
    "plt.axis(\"off\")\n",
    "plt.title('Облако самых частотных существительных книги:');"
   ]
  },
  {
   "cell_type": "markdown",
   "metadata": {},
   "source": [
    "### Задание 4: Dispersion plot"
   ]
  },
  {
   "cell_type": "code",
   "execution_count": 24,
   "metadata": {},
   "outputs": [],
   "source": [
    "from nltk import draw"
   ]
  },
  {
   "cell_type": "code",
   "execution_count": 25,
   "metadata": {},
   "outputs": [
    {
     "data": {
      "image/png": "[encoded data removed]",
      "text/plain": [
       "<Figure size 432x288 with 1 Axes>"
      ]
     },
     "metadata": {},
     "output_type": "display_data"
    },
    {
     "name": "stderr",
     "output_type": "stream",
     "text": [
      "2:51: W291 trailing whitespace\n",
      "3:58: W291 trailing whitespace\n",
      "2:51: W291 trailing whitespace\n",
      "3:58: W291 trailing whitespace\n"
     ]
    }
   ],
   "source": [
    "words = ['корнелиус', 'николас']\n",
    "draw.dispersion.dispersion_plot(df['normal_form'], \n",
    "                                words, ignore_case=False, \n",
    "                                title=\"Lexical Dispersion Plot\")"
   ]
  }
 ],
 "metadata": {
  "kernelspec": {
   "display_name": "Python 3",
   "language": "python",
   "name": "python3"
  },
  "language_info": {
   "codemirror_mode": {
    "name": "ipython",
    "version": 3
   },
   "file_extension": ".py",
   "mimetype": "text/x-python",
   "name": "python",
   "nbconvert_exporter": "python",
   "pygments_lexer": "ipython3",
   "version": "3.6.5"
  }
 },
 "nbformat": 4,
 "nbformat_minor": 2
}
